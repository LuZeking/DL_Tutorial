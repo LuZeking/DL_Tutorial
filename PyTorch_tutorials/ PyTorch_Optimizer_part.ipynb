{
 "cells": [
  {
   "cell_type": "code",
   "execution_count": null,
   "metadata": {},
   "outputs": [],
   "source": [
    "\"\"\"I Target： Here we learn how to chose optimizer tp optimize model\n",
    "\n",
    "II Definition: Strategy to optimize model(update weights) by calculating gradient\n",
    "\n",
    "III Instances:\n",
    "\n",
    "  4.0 torch.optim\n",
    "  4.1 params\n",
    "  4.2 zero_grad(), step()\n",
    "\n",
    "\n",
    "\n",
    "IV Compare 2 then Generalize\n",
    "\n",
    "V Test in New instance \n",
    "\"\"\""
   ]
  },
  {
   "cell_type": "code",
   "execution_count": 1,
   "metadata": {},
   "outputs": [],
   "source": [
    "import torch\n",
    "import torchvision\n",
    "from torch.utils.data import Dataset, DataLoader\n",
    "from torchvision import transforms\n",
    "\n",
    "\n",
    "from torch import nn\n"
   ]
  },
  {
   "cell_type": "code",
   "execution_count": 2,
   "metadata": {},
   "outputs": [],
   "source": [
    "\"\"\"Inherit from Dataset class or load inner torchvision.dataset\"\"\"\n",
    "\n",
    "transform = transforms.Compose([\n",
    "    transforms.ToTensor(),\n",
    "    transforms.Normalize(mean=(0.5), std = (0.5))  # normalize to [-1,1]\n",
    "])\n",
    "\n",
    "from torchvision.datasets import MNIST\n",
    "train_dataset = MNIST(root=\"/home/hpczeji1/hpc-work/Codebase/Datasets/mnist_data\",\n",
    "                      train=True,\n",
    "                      transform=transform,\n",
    "                      target_transform=None,  # Eg1.2.1 : <class 'int'>\n",
    "                      download=False)\n",
    "\n",
    "train_loader = DataLoader(dataset=train_dataset, \n",
    "                          batch_size=10000,\n",
    "                          shuffle=True)\n",
    "\n",
    "\n",
    "from torch import nn\n",
    "class SimpleModel(nn.Module):\n",
    "    def __init__(self):\n",
    "        super(SimpleModel, self).__init__()\n",
    "        self.conv1 = nn.Conv2d(in_channels=1,out_channels=64,kernel_size=(3,3),stride=3) # in_channel is te image channel number\n",
    "        self.conv2 = nn.Conv2d(in_channels = 64, out_channels = 64, kernel_size=(3,3),stride =3)\n",
    "        self.conv3 = nn.Conv2d(in_channels = 64, out_channels = 64, kernel_size=(3,3),stride =3)\n",
    "        self.relu = nn.ReLU(inplace = True)\n",
    "        self.Flatten = nn.Flatten(start_dim=1, end_dim=-1) # (B,C,H,W), USE C,H,W\n",
    "        self.Linear = nn.Linear(in_features=64*1*1, out_features=10,bias= False) # ins_feature num = flatten\n",
    "    \n",
    "    def forward(self, x):\n",
    "        x = self.conv1(x)\n",
    "        x = self.relu(x)\n",
    "        x = self.conv2(x)\n",
    "        x = self.relu(x)\n",
    "        x = self.conv3(x)\n",
    "        x = self.relu(x)\n",
    "        print(\"[before flatten] x.shape: {}\".format(x.shape))  # torch.Size\n",
    "        x = self.Flatten(x)\n",
    "        print(\"[after flatten] x.shape: {}\".format(x.shape))  # torch.Size([1, 3920])\n",
    "        x = self.Linear(x)\n",
    "\n",
    "        return self.relu(x)\n",
    "\n",
    "model = SimpleModel()\n"
   ]
  },
  {
   "cell_type": "code",
   "execution_count": 7,
   "metadata": {},
   "outputs": [],
   "source": [
    "def update_all_pars():\n",
    "    \"\"\"specific parts of params to update\n",
    "        4.0 torch.optim\n",
    "        4.1 params\n",
    "  \"\"\"\n",
    "\n",
    "    from torch import optim\n",
    "    # params = [param for name, param in model.named_parameters() if \".bias\" in name]\n",
    "    optimizer = optim.SGD(params = model.parameters(), lr= 0.0001, momentum= 0.9)\n",
    "    print(f\"optimzer.state_dict():{optimizer.state_dict()} \") "
   ]
  },
  {
   "cell_type": "code",
   "execution_count": 5,
   "metadata": {},
   "outputs": [],
   "source": [
    "def update_part_of_pars():\n",
    "    \"\"\"specific parts of params to update\n",
    "        4.0 torch.optim\n",
    "        4.1 params\n",
    "  \"\"\"\n",
    "\n",
    "    from torch import optim\n",
    "    params = [param for name, param in model.named_parameters() if \".bias\" in name]\n",
    "    optimizer = optim.SGD(params = params, lr= 0.0001, momentum= 0.9)\n",
    "    print(f\"optimzer.state_dict():{optimizer.state_dict()} \") \n",
    "    "
   ]
  },
  {
   "cell_type": "code",
   "execution_count": 8,
   "metadata": {},
   "outputs": [
    {
     "name": "stdout",
     "output_type": "stream",
     "text": [
      "optimzer.state_dict():{'state': {}, 'param_groups': [{'lr': 0.0001, 'momentum': 0.9, 'dampening': 0, 'weight_decay': 0, 'nesterov': False, 'params': [0, 1, 2, 3, 4, 5, 6]}]} \n",
      "optimzer.state_dict():{'state': {}, 'param_groups': [{'lr': 0.0001, 'momentum': 0.9, 'dampening': 0, 'weight_decay': 0, 'nesterov': False, 'params': [0, 1, 2]}]} \n"
     ]
    }
   ],
   "source": [
    "update_all_pars()\n",
    "update_part_of_pars()"
   ]
  },
  {
   "cell_type": "code",
   "execution_count": 10,
   "metadata": {},
   "outputs": [],
   "source": [
    "def entire_optim_process():\n",
    "    \"\"\"whole optim process\"\"\"\n",
    "\n",
    "    from torch import optim\n",
    "    from tqdm import tqdm\n",
    "    optimizer = optim.SGD(params = model.parameters(), lr= 0.0001, momentum= 0.9)\n",
    "    loss_fn = nn.CrossEntropyLoss()\n",
    "\n",
    "    epoch_num = 2\n",
    "    for epoch in range(epoch_num):\n",
    "        with tqdm(train_loader) as train_bar:\n",
    "            for x,y in train_bar:\n",
    "                optimizer.zero_grad()\n",
    "                loss = loss_fn(model(x),y)\n",
    "                loss.backward()\n",
    "                optimizer.step()\n",
    "        print(f\"epoch:{epoch}, loss{loss}\")"
   ]
  },
  {
   "cell_type": "code",
   "execution_count": 11,
   "metadata": {},
   "outputs": [
    {
     "name": "stderr",
     "output_type": "stream",
     "text": [
      "  0%|          | 0/6 [00:00<?, ?it/s]"
     ]
    },
    {
     "name": "stdout",
     "output_type": "stream",
     "text": [
      "[before flatten] x.shape: torch.Size([10000, 64, 1, 1])\n",
      "[after flatten] x.shape: torch.Size([10000, 64])\n"
     ]
    },
    {
     "name": "stderr",
     "output_type": "stream",
     "text": [
      " 17%|█▋        | 1/6 [00:04<00:21,  4.34s/it]"
     ]
    },
    {
     "name": "stdout",
     "output_type": "stream",
     "text": [
      "[before flatten] x.shape: torch.Size([10000, 64, 1, 1])\n",
      "[after flatten] x.shape: torch.Size([10000, 64])\n"
     ]
    },
    {
     "name": "stderr",
     "output_type": "stream",
     "text": [
      " 33%|███▎      | 2/6 [00:07<00:14,  3.50s/it]"
     ]
    },
    {
     "name": "stdout",
     "output_type": "stream",
     "text": [
      "[before flatten] x.shape: torch.Size([10000, 64, 1, 1])\n",
      "[after flatten] x.shape: torch.Size([10000, 64])\n"
     ]
    },
    {
     "name": "stderr",
     "output_type": "stream",
     "text": [
      " 50%|█████     | 3/6 [00:10<00:09,  3.21s/it]"
     ]
    },
    {
     "name": "stdout",
     "output_type": "stream",
     "text": [
      "[before flatten] x.shape: torch.Size([10000, 64, 1, 1])\n",
      "[after flatten] x.shape: torch.Size([10000, 64])\n"
     ]
    },
    {
     "name": "stderr",
     "output_type": "stream",
     "text": [
      " 67%|██████▋   | 4/6 [00:12<00:06,  3.03s/it]"
     ]
    },
    {
     "name": "stdout",
     "output_type": "stream",
     "text": [
      "[before flatten] x.shape: torch.Size([10000, 64, 1, 1])\n",
      "[after flatten] x.shape: torch.Size([10000, 64])\n"
     ]
    },
    {
     "name": "stderr",
     "output_type": "stream",
     "text": [
      " 83%|████████▎ | 5/6 [00:15<00:03,  3.04s/it]"
     ]
    },
    {
     "name": "stdout",
     "output_type": "stream",
     "text": [
      "[before flatten] x.shape: torch.Size([10000, 64, 1, 1])\n",
      "[after flatten] x.shape: torch.Size([10000, 64])\n"
     ]
    },
    {
     "name": "stderr",
     "output_type": "stream",
     "text": [
      "100%|██████████| 6/6 [00:18<00:00,  3.10s/it]\n"
     ]
    },
    {
     "name": "stdout",
     "output_type": "stream",
     "text": [
      "epoch:0, loss2.30184268951416\n"
     ]
    },
    {
     "name": "stderr",
     "output_type": "stream",
     "text": [
      "  0%|          | 0/6 [00:00<?, ?it/s]"
     ]
    },
    {
     "name": "stdout",
     "output_type": "stream",
     "text": [
      "[before flatten] x.shape: torch.Size([10000, 64, 1, 1])\n",
      "[after flatten] x.shape: torch.Size([10000, 64])\n"
     ]
    },
    {
     "name": "stderr",
     "output_type": "stream",
     "text": [
      " 17%|█▋        | 1/6 [00:02<00:14,  2.92s/it]"
     ]
    },
    {
     "name": "stdout",
     "output_type": "stream",
     "text": [
      "[before flatten] x.shape: torch.Size([10000, 64, 1, 1])\n",
      "[after flatten] x.shape: torch.Size([10000, 64])\n"
     ]
    },
    {
     "name": "stderr",
     "output_type": "stream",
     "text": [
      " 33%|███▎      | 2/6 [00:05<00:11,  2.83s/it]"
     ]
    },
    {
     "name": "stdout",
     "output_type": "stream",
     "text": [
      "[before flatten] x.shape: torch.Size([10000, 64, 1, 1])\n",
      "[after flatten] x.shape: torch.Size([10000, 64])\n"
     ]
    },
    {
     "name": "stderr",
     "output_type": "stream",
     "text": [
      " 50%|█████     | 3/6 [00:08<00:08,  2.81s/it]"
     ]
    },
    {
     "name": "stdout",
     "output_type": "stream",
     "text": [
      "[before flatten] x.shape: torch.Size([10000, 64, 1, 1])\n",
      "[after flatten] x.shape: torch.Size([10000, 64])\n"
     ]
    },
    {
     "name": "stderr",
     "output_type": "stream",
     "text": [
      " 67%|██████▋   | 4/6 [00:11<00:05,  2.77s/it]"
     ]
    },
    {
     "name": "stdout",
     "output_type": "stream",
     "text": [
      "[before flatten] x.shape: torch.Size([10000, 64, 1, 1])\n",
      "[after flatten] x.shape: torch.Size([10000, 64])\n"
     ]
    },
    {
     "name": "stderr",
     "output_type": "stream",
     "text": [
      " 83%|████████▎ | 5/6 [00:13<00:02,  2.77s/it]"
     ]
    },
    {
     "name": "stdout",
     "output_type": "stream",
     "text": [
      "[before flatten] x.shape: torch.Size([10000, 64, 1, 1])\n",
      "[after flatten] x.shape: torch.Size([10000, 64])\n"
     ]
    },
    {
     "name": "stderr",
     "output_type": "stream",
     "text": [
      "100%|██████████| 6/6 [00:16<00:00,  2.78s/it]"
     ]
    },
    {
     "name": "stdout",
     "output_type": "stream",
     "text": [
      "epoch:1, loss2.301483631134033\n"
     ]
    },
    {
     "name": "stderr",
     "output_type": "stream",
     "text": [
      "\n"
     ]
    }
   ],
   "source": [
    "entire_optim_process()"
   ]
  },
  {
   "cell_type": "code",
   "execution_count": null,
   "metadata": {},
   "outputs": [],
   "source": []
  }
 ],
 "metadata": {
  "interpreter": {
   "hash": "16c11565bb4e67660010f3b8ac54bb06ff920d6e5d1ce8d761516dd991d6b185"
  },
  "kernelspec": {
   "display_name": "Python 3.6.13 64-bit ('py36': conda)",
   "language": "python",
   "name": "python3"
  },
  "language_info": {
   "codemirror_mode": {
    "name": "ipython",
    "version": 3
   },
   "file_extension": ".py",
   "mimetype": "text/x-python",
   "name": "python",
   "nbconvert_exporter": "python",
   "pygments_lexer": "ipython3",
   "version": "3.6.13"
  },
  "orig_nbformat": 4
 },
 "nbformat": 4,
 "nbformat_minor": 2
}
