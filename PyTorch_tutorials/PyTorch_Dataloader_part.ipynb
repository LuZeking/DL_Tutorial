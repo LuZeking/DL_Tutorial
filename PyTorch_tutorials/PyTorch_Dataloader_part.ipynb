{
 "cells": [
  {
   "cell_type": "code",
   "execution_count": null,
   "metadata": {},
   "outputs": [],
   "source": [
    "\"\"\"I Target： Here we learn how to load made dataset, like divide into train/test, batch_size, shuffle\n",
    "\n",
    "II Definition: In Torch, Dataset is also a defined class, if you want to load your own Dataset, \n",
    "   you should inherit from torch.utils.data.Dataloader. Actually, you can get images and labels by __iter__,\n",
    "\n",
    "    PyTorch provides two data primitives: torch.utils.data.DataLoader and torch.utils.data.Dataset that allow you to use pre-loaded datasets as well as your own data. \n",
    "    Dataset stores the samples and their corresponding labels, \n",
    "    and DataLoader wraps an iterable around the Dataset to enable easy access to the samples.\n",
    "\n",
    "III Instances:\n",
    "    2.0 torch.utils.data.DataLoader https://pytorch.org/docs/stable/data.html\n",
    "    2.1 __iter__  [magic method]\n",
    "    2.2 __len__  [magic method]\n",
    "    2.3.0 enumerate\n",
    "    2.3.1 tqdm\n",
    "    2.4 collate_fn\n",
    "\n",
    "IV Compare 2 then Generalize\n",
    "\n",
    "V Test in New instance \n",
    "\"\"\""
   ]
  },
  {
   "cell_type": "code",
   "execution_count": 2,
   "metadata": {},
   "outputs": [],
   "source": [
    "import os \n",
    "from matplotlib.pyplot import interactive\n",
    "import torch\n",
    "\n",
    "from torch.utils.data import Dataset,DataLoader\n",
    "from torch.utils.data._utils import collate\n",
    "from torchvision import transforms\n",
    "from torchvision.datasets.mnist import MNIST\n",
    "\n"
   ]
  },
  {
   "cell_type": "code",
   "execution_count": 8,
   "metadata": {},
   "outputs": [],
   "source": [
    "\"\"\"Use Dataset generate before\"\"\"\n",
    "\n",
    "transform = transforms.Compose(\n",
    "  [\n",
    "    transforms.ToTensor(),\n",
    "    transforms.Normalize(mean=(0.5,), std=(0.5,))\n",
    "  ]\n",
    ")\n",
    "\n",
    "train_dataset = MNIST(root=\"/home/hpczeji1/hpc-work/Codebase/Datasets/mnist_data\",\n",
    "                      train=True,\n",
    "                      transform=transform,\n",
    "                      target_transform=None,  # Eg1.2.1 : <class 'int'>\n",
    "                      download=False)\n"
   ]
  },
  {
   "cell_type": "code",
   "execution_count": 11,
   "metadata": {},
   "outputs": [],
   "source": [
    "def DataLoade_is_Iterable():\n",
    "    \"\"\"  make dataloade form dataset, and check them if they are Iterable\"\"\"\n",
    "\n",
    "    from torch.utils.data import DataLoader\n",
    "    train_loader = DataLoader(dataset=train_dataset,\n",
    "                                batch_size=10000,\n",
    "                                shuffle=False\n",
    "    )\n",
    "\n",
    "    from collections.abc import Iterable\n",
    "\n",
    "    print(f\"isinstance(train_dataset,Iterable):{isinstance(train_dataset,Iterable)}\")  # False\n",
    "    print(f\"isinstance(train_loader,Iterable):{isinstance(train_loader,Iterable)}\")  # True, loader is Iterable, but Dataset not \n",
    "\n",
    "    print(\"type(train_loader): {}\".format(type(train_loader)))  # <class 'torch.utils.data.dataloader.DataLoader'>\n",
    "    for batch in train_loader:\n",
    "        print(\"type(batch): {}\".format(type(batch)))  # <class 'list'>\n",
    "        print(\"len(batch): {}\".format(len(batch)))  # 2\n",
    "        print(\"type(batch[0]): {}\".format(type(batch[0])))  # <class 'torch.Tensor'>\n",
    "        print(\"type(batch[1]): {}\".format(type(batch[1])))  # <class 'torch.Tensor'>\n",
    "        print(\"batch[0].shape: {}\".format(batch[0].shape))  # torch.Size([10000, 1, 28, 28])\n",
    "        print(\"batch[1].shape: {}\".format(batch[1].shape))  # torch.Size([10000])\n",
    "        break"
   ]
  },
  {
   "cell_type": "code",
   "execution_count": 13,
   "metadata": {},
   "outputs": [],
   "source": [
    "def len_of_dataloader():\n",
    "\n",
    "    from torch.utils.data import DataLoader\n",
    "    train_loader = DataLoader(dataset=train_dataset,batch_size=10000,shuffle=True)\n",
    "\n",
    "    print(f\"len(train_loader：{len(train_loader)}\")\n",
    "    print(f\"len(train_dataset)：{len(train_loader.dataset)}\")"
   ]
  },
  {
   "cell_type": "code",
   "execution_count": 15,
   "metadata": {},
   "outputs": [],
   "source": [
    "def enumerate_print():\n",
    "    \"\"\"enumerate can help you print batch-number and content\"\"\"\n",
    "\n",
    "    from torch.utils.data import DataLoader\n",
    "    train_loader = DataLoader(dataset=train_dataset,batch_size=10000,shuffle=True)\n",
    "\n",
    "    for batch, (x,y) in enumerate(train_loader):\n",
    "        print(\"batch: {}, type(x): {}, type(y): {}\".format(batch, type(x), type(y)))\n",
    "        # batch: 0, type(x): <class 'torch.Tensor'>, type(y): <class 'torch.Tensor'>\n",
    "        print(\"batch: {}, x.shape: {}, y.shape: {}\".format(batch, x.shape, y.shape))\n",
    "        # batch: 0, x.shape: torch.Size([10000, 1, 28, 28]), y.shape: torch.Size([10000])\n",
    "        break\n"
   ]
  },
  {
   "cell_type": "code",
   "execution_count": 16,
   "metadata": {},
   "outputs": [
    {
     "name": "stdout",
     "output_type": "stream",
     "text": [
      "batch: 0, type(x): <class 'torch.Tensor'>, type(y): <class 'torch.Tensor'>\n",
      "batch: 0, x.shape: torch.Size([10000, 1, 28, 28]), y.shape: torch.Size([10000])\n"
     ]
    }
   ],
   "source": [
    "# DataLoade_is_Iterable()\n",
    "# len_of_dataloader()\n",
    "enumerate_print()"
   ]
  },
  {
   "cell_type": "code",
   "execution_count": null,
   "metadata": {},
   "outputs": [],
   "source": []
  }
 ],
 "metadata": {
  "interpreter": {
   "hash": "16c11565bb4e67660010f3b8ac54bb06ff920d6e5d1ce8d761516dd991d6b185"
  },
  "kernelspec": {
   "display_name": "Python 3.6.13 64-bit ('py36': conda)",
   "language": "python",
   "name": "python3"
  },
  "language_info": {
   "codemirror_mode": {
    "name": "ipython",
    "version": 3
   },
   "file_extension": ".py",
   "mimetype": "text/x-python",
   "name": "python",
   "nbconvert_exporter": "python",
   "pygments_lexer": "ipython3",
   "version": "3.6.13"
  },
  "orig_nbformat": 4
 },
 "nbformat": 4,
 "nbformat_minor": 2
}
