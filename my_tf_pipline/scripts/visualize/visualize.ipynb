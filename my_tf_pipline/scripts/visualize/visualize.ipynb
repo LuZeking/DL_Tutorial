{
 "cells": [
  {
   "cell_type": "code",
   "execution_count": 3,
   "metadata": {},
   "outputs": [],
   "source": [
    "\"\"\"\n",
    "Here we visulize filters and feature maps\n",
    "\"\"\"\n",
    "\n",
    "import tensorflow as tf\n",
    "import numpy as np\n",
    "from PIL import Image\n",
    "\n",
    "from tensorflow import keras\n",
    "\n",
    "from utils.dataset_loader import load_cifar10\n",
    "from backbone.cnn import CNN_3L, Sequential_CNN_3L\n"
   ]
  },
  {
   "cell_type": "code",
   "execution_count": 4,
   "metadata": {},
   "outputs": [
    {
     "name": "stdout",
     "output_type": "stream",
     "text": [
      "Model: \"vgg16\"\n",
      "_________________________________________________________________\n",
      "Layer (type)                 Output Shape              Param #   \n",
      "=================================================================\n",
      "input_1 (InputLayer)         [(None, 224, 224, 3)]     0         \n",
      "_________________________________________________________________\n",
      "block1_conv1 (Conv2D)        (None, 224, 224, 64)      1792      \n",
      "_________________________________________________________________\n",
      "block1_conv2 (Conv2D)        (None, 224, 224, 64)      36928     \n",
      "_________________________________________________________________\n",
      "block1_pool (MaxPooling2D)   (None, 112, 112, 64)      0         \n",
      "_________________________________________________________________\n",
      "block2_conv1 (Conv2D)        (None, 112, 112, 128)     73856     \n",
      "_________________________________________________________________\n",
      "block2_conv2 (Conv2D)        (None, 112, 112, 128)     147584    \n",
      "_________________________________________________________________\n",
      "block2_pool (MaxPooling2D)   (None, 56, 56, 128)       0         \n",
      "_________________________________________________________________\n",
      "block3_conv1 (Conv2D)        (None, 56, 56, 256)       295168    \n",
      "_________________________________________________________________\n",
      "block3_conv2 (Conv2D)        (None, 56, 56, 256)       590080    \n",
      "_________________________________________________________________\n",
      "block3_conv3 (Conv2D)        (None, 56, 56, 256)       590080    \n",
      "_________________________________________________________________\n",
      "block3_pool (MaxPooling2D)   (None, 28, 28, 256)       0         \n",
      "_________________________________________________________________\n",
      "block4_conv1 (Conv2D)        (None, 28, 28, 512)       1180160   \n",
      "_________________________________________________________________\n",
      "block4_conv2 (Conv2D)        (None, 28, 28, 512)       2359808   \n",
      "_________________________________________________________________\n",
      "block4_conv3 (Conv2D)        (None, 28, 28, 512)       2359808   \n",
      "_________________________________________________________________\n",
      "block4_pool (MaxPooling2D)   (None, 14, 14, 512)       0         \n",
      "_________________________________________________________________\n",
      "block5_conv1 (Conv2D)        (None, 14, 14, 512)       2359808   \n",
      "_________________________________________________________________\n",
      "block5_conv2 (Conv2D)        (None, 14, 14, 512)       2359808   \n",
      "_________________________________________________________________\n",
      "block5_conv3 (Conv2D)        (None, 14, 14, 512)       2359808   \n",
      "_________________________________________________________________\n",
      "block5_pool (MaxPooling2D)   (None, 7, 7, 512)         0         \n",
      "_________________________________________________________________\n",
      "flatten (Flatten)            (None, 25088)             0         \n",
      "_________________________________________________________________\n",
      "fc1 (Dense)                  (None, 4096)              102764544 \n",
      "_________________________________________________________________\n",
      "fc2 (Dense)                  (None, 4096)              16781312  \n",
      "_________________________________________________________________\n",
      "predictions (Dense)          (None, 1000)              4097000   \n",
      "=================================================================\n",
      "Total params: 138,357,544\n",
      "Trainable params: 138,357,544\n",
      "Non-trainable params: 0\n",
      "_________________________________________________________________\n",
      "[<tensorflow.python.keras.engine.input_layer.InputLayer object at 0x2b53f9c5ddd8>, <tensorflow.python.keras.layers.convolutional.Conv2D object at 0x2b54310b4208>, <tensorflow.python.keras.layers.convolutional.Conv2D object at 0x2b53f9f5f438>, <tensorflow.python.keras.layers.pooling.MaxPooling2D object at 0x2b53f9f5f668>, <tensorflow.python.keras.layers.convolutional.Conv2D object at 0x2b53f9f56a20>, <tensorflow.python.keras.layers.convolutional.Conv2D object at 0x2b53f9f4d5f8>, <tensorflow.python.keras.layers.pooling.MaxPooling2D object at 0x2b53f9f4dda0>, <tensorflow.python.keras.layers.convolutional.Conv2D object at 0x2b543141f0f0>, <tensorflow.python.keras.layers.convolutional.Conv2D object at 0x2b543141fe48>, <tensorflow.python.keras.layers.convolutional.Conv2D object at 0x2b54314271d0>, <tensorflow.python.keras.layers.pooling.MaxPooling2D object at 0x2b5431427b38>, <tensorflow.python.keras.layers.convolutional.Conv2D object at 0x2b543142f668>, <tensorflow.python.keras.layers.convolutional.Conv2D object at 0x2b5463e294e0>, <tensorflow.python.keras.layers.convolutional.Conv2D object at 0x2b5463e29908>, <tensorflow.python.keras.layers.pooling.MaxPooling2D object at 0x2b5463e304e0>, <tensorflow.python.keras.layers.convolutional.Conv2D object at 0x2b5463e30cc0>, <tensorflow.python.keras.layers.convolutional.Conv2D object at 0x2b5463e39b38>, <tensorflow.python.keras.layers.convolutional.Conv2D object at 0x2b5463e39be0>, <tensorflow.python.keras.layers.pooling.MaxPooling2D object at 0x2b5463e42828>, <tensorflow.python.keras.layers.core.Flatten object at 0x2b5463e4b6a0>, <tensorflow.python.keras.layers.core.Dense object at 0x2b5463e4bf28>, <tensorflow.python.keras.layers.core.Dense object at 0x2b5463e524e0>, <tensorflow.python.keras.layers.core.Dense object at 0x2b5463e526a0>]\n",
      "23\n"
     ]
    }
   ],
   "source": [
    "# 1&2 dataset and dataloader\n",
    "# dataloader,(x_train, y_train), (x_test, y_test)  =  load_cifar10(BATCH_SIZE = 64, buffer_size=1024)\n",
    "\n",
    "# 3 model \n",
    "model = tf.keras.applications.VGG16(\n",
    "    include_top=True,\n",
    "    weights=\"imagenet\",\n",
    "    input_tensor=None,\n",
    "    input_shape=None,\n",
    "    pooling=None,\n",
    "    classes=1000,\n",
    "    classifier_activation=\"softmax\",\n",
    ")\n",
    "# model.load_weight(xxx) # load pretrain, so no need for # 4&5 set optimizer and train\n",
    "model.summary()\n",
    "print(model.layers)\n",
    "print(len(model.layers))\n",
    "# [<tensorflow.python.keras.engine.input_layer.InputLayer object at 0x2b8adb5ae588>, <tensorflow.python.keras.layers.convolutional.Conv2D object at 0x2b8a9da00e80>, <tensorflow.python.keras.layers.convolutional.Conv2D object at 0x2b8adb5a8ef0>, <tensorflow.python.keras.layers.pooling.MaxPooling2D object at 0x2b8ae489c668>, <tensorflow.python.keras.layers.convolutional.Conv2D object at 0x2b8ae489ce48>, <tensorflow.python.keras.layers.convolutional.Conv2D object at 0x2b8ae48d49b0>, <tensorflow.python.keras.layers.pooling.MaxPooling2D object at 0x2b8ae48d47b8>, <tensorflow.python.keras.layers.convolutional.Conv2D object at 0x2b8ae48df908>, <tensorflow.python.keras.layers.convolutional.Conv2D object at 0x2b8ae48e9780>, <tensorflow.python.keras.layers.convolutional.Conv2D object at 0x2b8ae48e97f0>, <tensorflow.python.keras.layers.pooling.MaxPooling2D object at 0x2b8ae48ef780>, <tensorflow.python.keras.layers.convolutional.Conv2D object at 0x2b8ae48effd0>, <tensorflow.python.keras.layers.convolutional.Conv2D object at 0x2b8ae48f6dd8>, <tensorflow.python.keras.layers.convolutional.Conv2D object at 0x2b8ae4901160>, <tensorflow.python.keras.layers.pooling.MaxPooling2D object at 0x2b8ae4901ac8>, <tensorflow.python.keras.layers.convolutional.Conv2D object at 0x2b8ae490a5f8>, <tensorflow.python.keras.layers.convolutional.Conv2D object at 0x2b8ae4914470>, <tensorflow.python.keras.layers.convolutional.Conv2D object at 0x2b8ae4914898>, <tensorflow.python.keras.layers.pooling.MaxPooling2D object at 0x2b8ae491a470>, <tensorflow.python.keras.layers.core.Flatten object at 0x2b8ae491acf8>, <tensorflow.python.keras.layers.core.Dense object at 0x2b8ae49257b8>, <tensorflow.python.keras.layers.core.Dense object at 0x2b8ae4925a90>, <tensorflow.python.keras.layers.core.Dense object at 0x2b8ae4925fd0>]\n",
    "# len = 23"
   ]
  },
  {
   "cell_type": "markdown",
   "metadata": {},
   "source": [
    "## plot activation/feature maps\n",
    " - visualize model.layer.output with specific images\n",
    "   - layer_outputs --> activation_model --> activation_model.predict()"
   ]
  },
  {
   "cell_type": "code",
   "execution_count": 58,
   "metadata": {},
   "outputs": [
    {
     "name": "stdout",
     "output_type": "stream",
     "text": [
      "WARNING:tensorflow:11 out of the last 11 calls to <function Model.make_predict_function.<locals>.predict_function at 0x2ba23bafe2f0> triggered tf.function retracing. Tracing is expensive and the excessive number of tracings could be due to (1) creating @tf.function repeatedly in a loop, (2) passing tensors with different shapes, (3) passing Python objects instead of tensors. For (1), please define your @tf.function outside of the loop. For (2), @tf.function has experimental_relax_shapes=True option that relaxes argument shapes that can avoid unnecessary retracing. For (3), please refer to https://www.tensorflow.org/tutorials/customization/performance#python_or_tensor_args and https://www.tensorflow.org/api_docs/python/tf/function for  more details.\n",
      "first_layer_activation size : (1, 14, 14, 512)\n",
      "Img 0 : mean energy value in layer 4: (49.725147, 466.10052, 0.0, 2509.7964)\n",
      "sumed first_layer_activation size : (1, 14, 14)\n",
      "mean/max: (0.31288138, 49.725136, 158.92648)\n"
     ]
    },
    {
     "data": {
      "image/png": "[encoded data removed]",
      "text/plain": [
       "<Figure size 288x288 with 1 Axes>"
      ]
     },
     "metadata": {
      "needs_background": "light"
     },
     "output_type": "display_data"
    },
    {
     "data": {
      "image/png": "[encoded data removed]",
      "text/plain": [
       "<Figure size 288x288 with 1 Axes>"
      ]
     },
     "metadata": {
      "needs_background": "light"
     },
     "output_type": "display_data"
    }
   ],
   "source": [
    "# instantiating a model from a input tensor and all imtermidate out put tensor \n",
    "layer_outputs = [layer.output for layer in model.layers[:]]\n",
    "activation_model = keras.models.Model(inputs = model.input, outputs = layer_outputs)\n",
    "\n",
    "img_tensor = np.random.rand(224,224,3) * 255 # tf.tensor(np.random((224,224,3)))\n",
    "from PIL import Image\n",
    "img_tensor = Image.open(\"/home/hpczeji1/hpc-work/Codebase/Datasets/healthy_aging/marleen_dataset/faces/17.jpg\")\n",
    "img_tensor = img_tensor.resize((224,224))\n",
    "# from PIL import Image\n",
    "# img_tensor = Image.fromarray(img_tensor.astype('uint8')).convert('RGBA')\n",
    "batch_size = 1\n",
    "imgs_batch_tensor = np.empty((batch_size,224,224,3))\n",
    "imgs_batch_tensor[0,:,:,:] = img_tensor \n",
    "\n",
    "activations = activation_model.predict(imgs_batch_tensor)\n",
    "first_layer_activation = activations[14] # 第四个 print(first_layer_activation.shape) 第三个是-13\n",
    "import matplotlib.pyplot as plt\n",
    "print(f\"first_layer_activation size : {first_layer_activation.shape}\") # batch_num, w,h,c\n",
    "#! why activation value is so huge than 256\n",
    "print(f\"Img 0 : mean energy value in layer 4: {np.mean(first_layer_activation[0, :, :, :]), np.max(first_layer_activation[0, :, :, 1]),np.min(first_layer_activation[0, :, :, :]),np.max(first_layer_activation[0, :, :, :])}\")\n",
    "plt.matshow(first_layer_activation[0, :, :, 4], cmap='viridis') # channel 4\n",
    "\n",
    "# first_layer_activation = tf.reduce_max(first_layer_activation,axis=3)\n",
    "# print(f\"sumed first_layer_activation size : {first_layer_activation.shape}\") \n",
    "# plt.matshow(first_layer_activation[0, :, :], cmap='viridis')\n",
    "# energy_map = first_layer_activation[0, :, :]\n",
    "# print(f\"mean/max: {np.mean(energy_map)/np.max(energy_map), np.mean(energy_map),np.max(energy_map)}\")\n",
    "\n",
    "# energy map\n",
    "first_layer_activation = np.mean(first_layer_activation,axis=3)  # np.max\n",
    "print(f\"sumed first_layer_activation size : {first_layer_activation.shape}\") \n",
    "plt.matshow(first_layer_activation[0, :, :], cmap='viridis')\n",
    "energy_map = first_layer_activation[0, :, :]\n",
    "print(f\"mean/max: {np.mean(energy_map)/np.max(energy_map), np.mean(energy_map),np.max(energy_map)}\")\n",
    "\n",
    "plt.savefig(\"results/sumed_first_layer_activation.jpg\")\n",
    "\n",
    "#! 1 above plot activations, and 2 follow later link can plot filters(weight units) \n",
    "# https://machinelearningmastery.com/how-to-visualize-filters-and-feature-maps-in-convolutional-neural-networks/"
   ]
  },
  {
   "cell_type": "markdown",
   "metadata": {},
   "source": [
    "## plot filters/weights\n",
    " - filters,biases = model.layer.get_weights(),then visualize the filters"
   ]
  },
  {
   "cell_type": "code",
   "execution_count": 8,
   "metadata": {},
   "outputs": [
    {
     "name": "stdout",
     "output_type": "stream",
     "text": [
      "block1_conv1 (3, 3, 3, 64)\n",
      "block1_conv2 (3, 3, 64, 64)\n",
      "block2_conv1 (3, 3, 64, 128)\n",
      "block2_conv2 (3, 3, 128, 128)\n",
      "block3_conv1 (3, 3, 128, 256)\n",
      "block3_conv2 (3, 3, 256, 256)\n",
      "block3_conv3 (3, 3, 256, 256)\n",
      "block4_conv1 (3, 3, 256, 512)\n",
      "block4_conv2 (3, 3, 512, 512)\n",
      "block4_conv3 (3, 3, 512, 512)\n",
      "block5_conv1 (3, 3, 512, 512)\n",
      "block5_conv2 (3, 3, 512, 512)\n",
      "block5_conv3 (3, 3, 512, 512)\n"
     ]
    },
    {
     "data": {
      "image/png": "[encoded data removed]",
      "text/plain": [
       "<Figure size 432x288 with 18 Axes>"
      ]
     },
     "metadata": {},
     "output_type": "display_data"
    }
   ],
   "source": [
    "import matplotlib.pyplot as plt\n",
    "\"\"\"Visualize layer weights, refer to  https://machinelearningmastery.com/how-to-visualize-filters-and-feature-maps-in-convolutional-neural-networks/\n",
    "\"\"\"\n",
    "# see how many onv layer we have\n",
    "for layer in model.layers:\n",
    "    if \"conv\" not in layer.name:\n",
    "        continue\n",
    "    # get filter\n",
    "    filters, biases = layer.get_weights()\n",
    "    print(layer.name,filters.shape)\n",
    "\n",
    "filters,biases = model.layers[1].get_weights()\n",
    "f_min,f_max = filters.min(),filters.max()\n",
    "filters = (filters-f_min)/f_max-f_min\n",
    "# plot some filters in layer 0,which only has 3 channels\n",
    "\n",
    "n_filters,ix=6,1\n",
    "for i in range(n_filters):\n",
    "    f = filters[:,:,:,i]\n",
    "    for j in range(3):\n",
    "        ax = plt.subplot(n_filters,3,ix)\n",
    "        ax.set_xticks([])\n",
    "        ax.set_yticks([])\n",
    "\t\t# plot filter channel in grayscale\n",
    "        plt.imshow(f[:, :, j]) # , cmap='gray'\n",
    "        ix += 1\n",
    "\n",
    "plt.show()\n",
    "        \n"
   ]
  },
  {
   "cell_type": "markdown",
   "metadata": {},
   "source": [
    "##  calculate complexity in dir"
   ]
  },
  {
   "cell_type": "code",
   "execution_count": null,
   "metadata": {},
   "outputs": [],
   "source": [
    "# instantiating a model from a input tensor and all imtermidate out put tensor \n",
    "layer_outputs = [layer.output for layer in model.layers[:]]\n",
    "activation_model = keras.models.Model(inputs = model.input, outputs = layer_outputs)\n",
    "\n",
    "# img_tensor = np.random.rand(224,224,3) * 255 # tf.tensor(np.random((224,224,3)))\n",
    "# from PIL import Image\n",
    "# img_tensor = Image.open(\"/home/hpczeji1/hpc-work/Codebase/Datasets/healthy_aging/marleen_dataset/faces/17.jpg\")\n",
    "# img_tensor = img_tensor.resize((224,224))\n",
    "# from PIL import Image\n",
    "# img_tensor = Image.fromarray(img_tensor.astype('uint8')).convert('RGBA')\n",
    "cat_dict = {\"faces\":1000,\"animals\":2000,\"places\":3000,\"objects\":4000}\n",
    "complexity_list = []\n",
    "for cat_name in cat_dict.keys():\n",
    "    print(f\"Caculating {cat_name} ...\")\n",
    "    source_dir = f\"/home/hpczeji1/hpc-work/Codebase/Datasets/healthy_aging/marleen_dataset/{cat_name}/\"\n",
    "    batch_size = 1000\n",
    "    imgs_batch_tensor = np.empty((batch_size,224,224,3))    \n",
    "    for i in range(batch_size):\n",
    "        img_tensor = Image.open(source_dir+f\"{i+cat_dict[cat_name]-1000}.jpg\")\n",
    "        img_tensor = img_tensor.convert('RGB')\n",
    "        # img_tensor = img_tensor.resize((224,224))\n",
    "        # print(f\"shape:{img_tensor.size}\")\n",
    "        try:\n",
    "            imgs_batch_tensor[i,:,:,:] = img_tensor \n",
    "        except:\n",
    "            print(f\"img_tensor.size:{img_tensor.size}\")\n",
    "            raise NotImplementedError\n",
    "\n",
    "    activations = activation_model.predict(imgs_batch_tensor)\n",
    "    forth_layer_activation = activations[14] # 第四个 print(first_layer_activation.shape) 第三个是-13\n",
    "    complexity_list += [np.mean(forth_layer_activation[i, :, :, :]) for i in range(1000)] \n",
    "\n",
    "# write to csv\n",
    "with open(\"/home/hpczeji1/hpc-work/Codebase/Datasets/healthy_aging/marleen_plot/Id_Complexity.csv\", \"w\") as f:\n",
    "    f.write(\"{Id},{Complexity}\\n\")\n",
    "    for i in range(4000):\n",
    "        f.write(\"{},{}\\n\".format(i, round(complexity_list[i]),0))\n",
    "\n",
    "# https://machinelearningmastery.com/how-to-visualize-filters-and-feature-maps-in-convolutional-neural-networks/"
   ]
  },
  {
   "cell_type": "code",
   "execution_count": null,
   "metadata": {},
   "outputs": [],
   "source": [
    "# plot hist\n",
    "import matplotlib.pyplot as plt\n",
    "\n",
    "cat_dict = {\"faces\":1000,\"animals\":2000,\"places\":3000,\"objects\":4000}\n",
    "cat_name = \"faces\"\n",
    "for cat_name in cat_dict.keys():\n",
    "    n, bins, patches = plt.hist(x = complexity_list[cat_dict[cat_name]-1000:cat_dict[cat_name]], bins =list(range(1,101,3)),color='#0504aa',alpha=0.5, rwidth=0.85)  # bins = [round(0.001*i,2) for i in list(range(901,1021,10))]\n",
    "\n",
    "    # print([0.01*i for i in list(range(0,100,2))])\n",
    "    plt.ylim(0,150)\n",
    "    plt.xlim(0,100)\n",
    "\n",
    "    plt.xlabel('Value')\n",
    "    plt.ylabel('Frequency')\n",
    "    plt.title(f'{cat_name.capitalize()} Complexity Distribution')\n",
    "\n",
    "    save_dir = \"/home/hpczeji1/hpc-work/Codebase/Datasets/healthy_aging/marleen_plot/categories/\"\n",
    "    plt.savefig(save_dir + f'{cat_name.capitalize()}_Complexity_Distribution.jpg', bbox_inches = 'tight')\n",
    "    plt.show()\n",
    "    plt.close()"
   ]
  },
  {
   "cell_type": "code",
   "execution_count": 71,
   "metadata": {},
   "outputs": [
    {
     "name": "stdout",
     "output_type": "stream",
     "text": [
      "7.1745567\n"
     ]
    }
   ],
   "source": []
  },
  {
   "cell_type": "code",
   "execution_count": null,
   "metadata": {},
   "outputs": [],
   "source": []
  }
 ],
 "metadata": {
  "interpreter": {
   "hash": "16c11565bb4e67660010f3b8ac54bb06ff920d6e5d1ce8d761516dd991d6b185"
  },
  "kernelspec": {
   "display_name": "Python 3.6.13 64-bit ('py36': conda)",
   "language": "python",
   "name": "python3"
  },
  "language_info": {
   "codemirror_mode": {
    "name": "ipython",
    "version": 3
   },
   "file_extension": ".py",
   "mimetype": "text/x-python",
   "name": "python",
   "nbconvert_exporter": "python",
   "pygments_lexer": "ipython3",
   "version": "3.6.13"
  },
  "orig_nbformat": 4
 },
 "nbformat": 4,
 "nbformat_minor": 2
}
