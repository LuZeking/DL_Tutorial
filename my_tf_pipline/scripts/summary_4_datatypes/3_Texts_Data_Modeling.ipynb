{
 "cells": [
  {
   "cell_type": "markdown",
   "metadata": {},
   "source": [
    "# Modeling Procedure \n",
    "\n",
    "In principle, the neural network could be defined by graphs consist of tensors and trained through automatic differenciate.\n",
    "\n",
    "However, for simplification, we recommend to use high-level Keras API in Tensorflow to implement the neural networks.\n",
    "\n",
    "The common procedures of implementing neural networks using TensorFlow are:\n",
    "\n",
    "1. Data preparation and loading\n",
    "2. Model definition\n",
    "3. Model training\n",
    "4. Model evaluation, application and saving"
   ]
  },
  {
   "cell_type": "code",
   "execution_count": 1,
   "metadata": {},
   "outputs": [],
   "source": [
    "import sys\n",
    "import os\n",
    "project_path = os.path.abspath(os.path.join(os.getcwd(), \"../..\"))\n",
    "sys.path.append(project_path)\n",
    "import numpy as np\n",
    "import pandas as pd\n",
    "import datetime\n",
    "import re,string\n",
    "\n",
    "import tensorflow as tf\n",
    "from tensorflow import keras\n",
    "from tensorflow.keras import models,layers\n",
    "from tensorflow.keras.layers.experimental.preprocessing import TextVectorization\n",
    "\n",
    "from utils.dataset_loader import load_cifar10,get_txt_dataset_from_csv,structured_data_preprocessing,get_dataset_from_list_files\n",
    "from utils.trainer import plot_metric\n",
    "from backbone.cnn import CNN_3L, Sequential_CNN_3L"
   ]
  },
  {
   "cell_type": "code",
   "execution_count": 2,
   "metadata": {
    "scrolled": true
   },
   "outputs": [
    {
     "name": "stdout",
     "output_type": "stream",
     "text": [
      "['', '[UNK]', 'the', 'and', 'a', 'of', 'to', 'is', 'in', 'it', 'i', 'this', 'that', 'was', 'as', 'for', 'with', 'movie', 'but', 'film', 'on', 'not', 'you', 'his', 'are', 'have', 'be', 'he', 'one', 'its', 'at', 'all', 'by', 'an', 'they', 'from', 'who', 'so', 'like', 'her', 'just', 'or', 'about', 'has', 'if', 'out', 'some', 'there', 'what', 'good', 'more', 'when', 'very', 'she', 'even', 'my', 'no', 'would', 'up', 'time', 'only', 'which', 'story', 'really', 'their', 'were', 'had', 'see', 'can', 'me', 'than', 'we', 'much', 'well', 'get', 'been', 'will', 'into', 'people', 'also', 'other', 'do', 'bad', 'because', 'great', 'first', 'how', 'him', 'most', 'dont', 'made', 'then', 'them', 'films', 'movies', 'way', 'make', 'could', 'too', 'any']\n",
      "(20, 200) (20, 1)\n",
      "Epoch 1/10\n",
      "      1/Unknown - 0s 161us/step - loss: 0.6920 - accuracy: 0.6000WARNING:tensorflow:From /rds/user/hpczeji1/hpc-work/anaconda3/envs/py36/lib/python3.6/site-packages/tensorflow/python/ops/summary_ops_v2.py:1277: stop (from tensorflow.python.eager.profiler) is deprecated and will be removed after 2020-07-01.\n",
      "Instructions for updating:\n",
      "use `tf.profiler.experimental.stop` instead.\n",
      "WARNING:tensorflow:Callbacks method `on_train_batch_end` is slow compared to the batch time (batch time: 0.0074s vs `on_train_batch_end` time: 0.0377s). Check your callbacks.\n",
      "1000/1000 [==============================] - 5s 5ms/step - loss: 0.6932 - accuracy: 0.5001 - val_loss: 0.6934 - val_accuracy: 0.4882\n",
      "Epoch 2/10\n",
      "1000/1000 [==============================] - 4s 4ms/step - loss: 0.6931 - accuracy: 0.5046 - val_loss: 0.6934 - val_accuracy: 0.4876\n",
      "Epoch 3/10\n",
      "1000/1000 [==============================] - 4s 4ms/step - loss: 0.6930 - accuracy: 0.5058 - val_loss: 0.6933 - val_accuracy: 0.4890\n",
      "Epoch 4/10\n",
      "1000/1000 [==============================] - 4s 4ms/step - loss: 0.6928 - accuracy: 0.5165 - val_loss: 0.6933 - val_accuracy: 0.4880\n",
      "Epoch 5/10\n",
      "1000/1000 [==============================] - 4s 4ms/step - loss: 0.6928 - accuracy: 0.5137 - val_loss: 0.6933 - val_accuracy: 0.4876\n",
      "Epoch 6/10\n",
      "1000/1000 [==============================] - 4s 4ms/step - loss: 0.6926 - accuracy: 0.5179 - val_loss: 0.6929 - val_accuracy: 0.4912\n",
      "Epoch 7/10\n",
      "1000/1000 [==============================] - 4s 4ms/step - loss: 0.6924 - accuracy: 0.5194 - val_loss: 0.6925 - val_accuracy: 0.5278\n",
      "Epoch 8/10\n",
      "1000/1000 [==============================] - 4s 4ms/step - loss: 0.6921 - accuracy: 0.5278 - val_loss: 0.6921 - val_accuracy: 0.5358\n",
      "Epoch 9/10\n",
      "1000/1000 [==============================] - 4s 4ms/step - loss: 0.6917 - accuracy: 0.5324 - val_loss: 0.6922 - val_accuracy: 0.4950\n",
      "Epoch 10/10\n",
      "1000/1000 [==============================] - 4s 4ms/step - loss: 0.6910 - accuracy: 0.5360 - val_loss: 0.6900 - val_accuracy: 0.5294\n",
      "Model: \"functional_1\"\n",
      "_________________________________________________________________\n",
      "Layer (type)                 Output Shape              Param #   \n",
      "=================================================================\n",
      "input_1 (InputLayer)         [(None, 200)]             0         \n",
      "_________________________________________________________________\n",
      "embedding (Embedding)        (None, 200, 7)            70000     \n",
      "_________________________________________________________________\n",
      "conv_1 (Conv1D)              (None, 196, 16)           576       \n",
      "_________________________________________________________________\n",
      "pool_1 (MaxPooling1D)        (None, 98, 16)            0         \n",
      "_________________________________________________________________\n",
      "conv_2 (Conv1D)              (None, 97, 128)           4224      \n",
      "_________________________________________________________________\n",
      "pool_2 (MaxPooling1D)        (None, 48, 128)           0         \n",
      "_________________________________________________________________\n",
      "flatten (Flatten)            (None, 6144)              0         \n",
      "_________________________________________________________________\n",
      "dense (Dense)                (None, 1)                 6145      \n",
      "=================================================================\n",
      "Total params: 80,945\n",
      "Trainable params: 80,945\n",
      "Non-trainable params: 0\n",
      "_________________________________________________________________\n"
     ]
    }
   ],
   "source": [
    "# 1 Dataset and dataloader\n",
    "train_data_path = \"../../data/imdb/train.csv\"\n",
    "test_data_path =  \"../../data/imdb/test.csv\"\n",
    "\n",
    "MAX_WORDS = 10000  # Consider the 10000 words with the highest frequency of appearance\n",
    "MAX_LEN = 200  # For each sample, preserve the first 200 words\n",
    "BATCH_SIZE = 20 \n",
    "ds_train, ds_test = get_txt_dataset_from_csv(train_data_path,test_data_path,MAX_WORDS = MAX_WORDS, MAX_LEN = MAX_LEN, BATCH_SIZE = BATCH_SIZE )\n",
    "for x,y in ds_train.take(1): # ds_train = (x_train , y_train)\n",
    "    print(x.shape,y.shape)\n",
    "\n",
    "# 2 Model definition (Sequential, Model(Input,Output))\n",
    "tf.keras.backend.clear_session()\n",
    "class CnnModel(models.Model):\n",
    "    def __init__(self):\n",
    "        super(CnnModel, self).__init__()\n",
    "        \n",
    "    def build(self,input_shape):\n",
    "        self.embedding = layers.Embedding(MAX_WORDS,7,input_length=MAX_LEN)\n",
    "        self.conv_1 = layers.Conv1D(16, kernel_size= 5,name = \"conv_1\",activation = \"relu\")\n",
    "        self.pool_1 = layers.MaxPool1D(name = \"pool_1\")\n",
    "        self.conv_2 = layers.Conv1D(128, kernel_size=2,name = \"conv_2\",activation = \"relu\")\n",
    "        self.pool_2 = layers.MaxPool1D(name = \"pool_2\")\n",
    "        self.flatten = layers.Flatten()\n",
    "        self.dense = layers.Dense(1,activation = \"sigmoid\")\n",
    "        super(CnnModel,self).build(input_shape)\n",
    "    \n",
    "    def call(self, x):\n",
    "        x = self.embedding(x)\n",
    "        x = self.conv_1(x)\n",
    "        x = self.pool_1(x)\n",
    "        x = self.conv_2(x)\n",
    "        x = self.pool_2(x)\n",
    "        x = self.flatten(x)\n",
    "        x = self.dense(x)\n",
    "        return(x)\n",
    "    \n",
    "    # To show Output Shape\n",
    "    def summary(self):\n",
    "        x_input = layers.Input(shape = MAX_LEN)\n",
    "        output = self.call(x_input)\n",
    "        model = tf.keras.Model(inputs = x_input,outputs = output)\n",
    "        model.summary()\n",
    "    \n",
    "model = CnnModel()\n",
    "model.build(input_shape =(None,MAX_LEN))\n",
    "\n",
    "# 3 Set optimizer and training\n",
    "model.compile(optimizer=\"SGD\", loss='binary_crossentropy',\n",
    "            metrics=['accuracy'])\n",
    "\n",
    "stamp = datetime.datetime.now().strftime(\"%Y%m%d-%H%M%S\")\n",
    "logdir = os.path.join('../../data', 'autograph', stamp)\n",
    "tensorboard_callback = tf.keras.callbacks.TensorBoard(logdir, histogram_freq=1)\n",
    "history = model.fit(ds_train, epochs=10,\n",
    "                    validation_data=ds_test, # Could just use y_test instead of validation_split=0.2,\n",
    "                    callbacks = [tensorboard_callback],workers = 4)  \n",
    "model.summary()\n",
    "\n",
    "# 4 Model evaluation, application and saving"
   ]
  },
  {
   "cell_type": "code",
   "execution_count": 3,
   "metadata": {},
   "outputs": [
    {
     "name": "stdout",
     "output_type": "stream",
     "text": [
      "250/250 [==============================] - 0s 2ms/step - loss: 0.6900 - accuracy: 0.5294\n",
      "[[0.49204546]\n",
      " [0.49631104]\n",
      " [0.4967426 ]\n",
      " [0.4944859 ]\n",
      " [0.485171  ]\n",
      " [0.48103914]\n",
      " [0.48015967]\n",
      " [0.4947515 ]\n",
      " [0.51329803]\n",
      " [0.48995128]\n",
      " [0.4921977 ]\n",
      " [0.4823234 ]\n",
      " [0.4896854 ]\n",
      " [0.48626631]\n",
      " [0.48174638]\n",
      " [0.49675718]\n",
      " [0.48342738]\n",
      " [0.4929095 ]\n",
      " [0.48067582]\n",
      " [0.48197347]]\n"
     ]
    }
   ],
   "source": [
    "## 4.1 Model evaluate \n",
    "model.evaluate(ds_test)  # Val_loss,val_accuracy， input ds_test instead of x = x_test,y = y_test\n",
    "\n",
    "## 4.2 Model application\n",
    "model.predict(ds_test)  # Predict the possiblities\n",
    "for x,y in ds_test.take(1):\n",
    "    print(model.predict_on_batch(x[0:20]))\n"
   ]
  },
  {
   "cell_type": "code",
   "execution_count": 4,
   "metadata": {},
   "outputs": [
    {
     "name": "stdout",
     "output_type": "stream",
     "text": [
      "WARNING:tensorflow:From /rds/user/hpczeji1/hpc-work/anaconda3/envs/py36/lib/python3.6/site-packages/tensorflow/python/training/tracking/tracking.py:111: Model.state_updates (from tensorflow.python.keras.engine.training) is deprecated and will be removed in a future version.\n",
      "Instructions for updating:\n",
      "This property should not be used in TensorFlow 2.0, as updates are applied automatically.\n",
      "WARNING:tensorflow:From /rds/user/hpczeji1/hpc-work/anaconda3/envs/py36/lib/python3.6/site-packages/tensorflow/python/training/tracking/tracking.py:111: Layer.updates (from tensorflow.python.keras.engine.base_layer) is deprecated and will be removed in a future version.\n",
      "Instructions for updating:\n",
      "This property should not be used in TensorFlow 2.0, as updates are applied automatically.\n",
      "INFO:tensorflow:Assets written to: ../../model_saved/image_data_keras_model.model/assets\n"
     ]
    }
   ],
   "source": [
    "## 4.3 Model saving\n",
    "model.save('../../model_saved/image_data_keras_model.model') \n",
    "del model  #Deleting current model\n",
    "model = models.load_model('../../model_saved/structured_data_keras_model.model')\n",
    "\n",
    "# Could also model.to_json/models.model_from_json to save structure\n",
    "# Could also model.save_weights, and save ckpt in save_format = \"tf\""
   ]
  },
  {
   "cell_type": "code",
   "execution_count": 5,
   "metadata": {},
   "outputs": [
    {
     "data": {
      "image/png": "[encoded data removed]",
      "text/plain": [
       "<Figure size 432x288 with 1 Axes>"
      ]
     },
     "metadata": {
      "needs_background": "light"
     },
     "output_type": "display_data"
    }
   ],
   "source": [
    "# 4 Model evaluation, application and saving\n",
    "plot_metric(history,\"loss\")"
   ]
  },
  {
   "cell_type": "code",
   "execution_count": 7,
   "metadata": {},
   "outputs": [
    {
     "data": {
      "image/png": "[encoded data removed]",
      "text/plain": [
       "<Figure size 432x288 with 1 Axes>"
      ]
     },
     "metadata": {
      "needs_background": "light"
     },
     "output_type": "display_data"
    }
   ],
   "source": [
    "plot_metric(history,\"accuracy\")"
   ]
  },
  {
   "cell_type": "code",
   "execution_count": null,
   "metadata": {},
   "outputs": [],
   "source": []
  }
 ],
 "metadata": {
  "interpreter": {
   "hash": "16c11565bb4e67660010f3b8ac54bb06ff920d6e5d1ce8d761516dd991d6b185"
  },
  "kernelspec": {
   "display_name": "Python 3",
   "language": "python",
   "name": "python3"
  },
  "language_info": {
   "codemirror_mode": {
    "name": "ipython",
    "version": 3
   },
   "file_extension": ".py",
   "mimetype": "text/x-python",
   "name": "python",
   "nbconvert_exporter": "python",
   "pygments_lexer": "ipython3",
   "version": "3.6.13"
  }
 },
 "nbformat": 4,
 "nbformat_minor": 2
}
