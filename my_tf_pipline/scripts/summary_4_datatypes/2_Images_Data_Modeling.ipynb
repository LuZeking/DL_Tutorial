{
 "cells": [
  {
   "cell_type": "markdown",
   "metadata": {},
   "source": [
    "# Modeling Procedure \n",
    "\n",
    "In principle, the neural network could be defined by graphs consist of tensors and trained through automatic differenciate.\n",
    "\n",
    "However, for simplification, we recommend to use high-level Keras API in Tensorflow to implement the neural networks.\n",
    "\n",
    "The common procedures of implementing neural networks using TensorFlow are:\n",
    "\n",
    "1. Data preparation and loading\n",
    "2. Model definition\n",
    "3. Model training\n",
    "4. Model evaluation, application and saving"
   ]
  },
  {
   "cell_type": "code",
   "execution_count": 9,
   "metadata": {},
   "outputs": [],
   "source": [
    "import sys\n",
    "import os\n",
    "project_path = os.path.abspath(os.path.join(os.getcwd(), \"../..\"))\n",
    "sys.path.append(project_path)\n",
    "import numpy as np\n",
    "import pandas as pd\n",
    "import datetime\n",
    "\n",
    "import tensorflow as tf\n",
    "from tensorflow import keras\n",
    "from tensorflow.keras import models,layers\n",
    "\n",
    "from utils.dataset_loader import load_cifar10,structured_data_preprocessing,get_dataset_from_list_files\n",
    "from utils.trainer import plot_metric\n",
    "from backbone.cnn import CNN_3L, Sequential_CNN_3L"
   ]
  },
  {
   "cell_type": "code",
   "execution_count": 10,
   "metadata": {
    "scrolled": true
   },
   "outputs": [
    {
     "name": "stdout",
     "output_type": "stream",
     "text": [
      "(100, 32, 32, 3) (100,)\n",
      "Epoch 1/10\n",
      "  1/100 [..............................] - ETA: 0s - loss: 0.6879 - accuracy: 0.5300WARNING:tensorflow:From /rds/user/hpczeji1/hpc-work/anaconda3/envs/py36/lib/python3.6/site-packages/tensorflow/python/ops/summary_ops_v2.py:1277: stop (from tensorflow.python.eager.profiler) is deprecated and will be removed after 2020-07-01.\n",
      "Instructions for updating:\n",
      "use `tf.profiler.experimental.stop` instead.\n",
      "  2/100 [..............................] - ETA: 5s - loss: 0.6904 - accuracy: 0.5300WARNING:tensorflow:Callbacks method `on_train_batch_end` is slow compared to the batch time (batch time: 0.0314s vs `on_train_batch_end` time: 0.0756s). Check your callbacks.\n",
      "100/100 [==============================] - 4s 42ms/step - loss: 0.6394 - accuracy: 0.6435 - val_loss: 0.5732 - val_accuracy: 0.7270\n",
      "Epoch 2/10\n",
      "100/100 [==============================] - 2s 18ms/step - loss: 0.5385 - accuracy: 0.7540 - val_loss: 0.4731 - val_accuracy: 0.7950\n",
      "Epoch 3/10\n",
      "100/100 [==============================] - 2s 16ms/step - loss: 0.4863 - accuracy: 0.7775 - val_loss: 0.4339 - val_accuracy: 0.8115\n",
      "Epoch 4/10\n",
      "100/100 [==============================] - 2s 16ms/step - loss: 0.4725 - accuracy: 0.7839 - val_loss: 0.4167 - val_accuracy: 0.8225\n",
      "Epoch 5/10\n",
      "100/100 [==============================] - 2s 16ms/step - loss: 0.4542 - accuracy: 0.7931 - val_loss: 0.4048 - val_accuracy: 0.8290\n",
      "Epoch 6/10\n",
      "100/100 [==============================] - 2s 16ms/step - loss: 0.4451 - accuracy: 0.7988 - val_loss: 0.3985 - val_accuracy: 0.8280\n",
      "Epoch 7/10\n",
      "100/100 [==============================] - 2s 15ms/step - loss: 0.4272 - accuracy: 0.8091 - val_loss: 0.3938 - val_accuracy: 0.8295\n",
      "Epoch 8/10\n",
      "100/100 [==============================] - 2s 15ms/step - loss: 0.4225 - accuracy: 0.8091 - val_loss: 0.3742 - val_accuracy: 0.8385\n",
      "Epoch 9/10\n",
      "100/100 [==============================] - 2s 15ms/step - loss: 0.4034 - accuracy: 0.8238 - val_loss: 0.4125 - val_accuracy: 0.8105\n",
      "Epoch 10/10\n",
      "100/100 [==============================] - 2s 15ms/step - loss: 0.3970 - accuracy: 0.8253 - val_loss: 0.3517 - val_accuracy: 0.8520\n",
      "Model: \"functional_1\"\n",
      "_________________________________________________________________\n",
      "Layer (type)                 Output Shape              Param #   \n",
      "=================================================================\n",
      "input_1 (InputLayer)         [(None, 32, 32, 3)]       0         \n",
      "_________________________________________________________________\n",
      "conv2d (Conv2D)              (None, 30, 30, 32)        896       \n",
      "_________________________________________________________________\n",
      "max_pooling2d (MaxPooling2D) (None, 15, 15, 32)        0         \n",
      "_________________________________________________________________\n",
      "conv2d_1 (Conv2D)            (None, 11, 11, 64)        51264     \n",
      "_________________________________________________________________\n",
      "max_pooling2d_1 (MaxPooling2 (None, 5, 5, 64)          0         \n",
      "_________________________________________________________________\n",
      "dropout (Dropout)            (None, 5, 5, 64)          0         \n",
      "_________________________________________________________________\n",
      "flatten (Flatten)            (None, 1600)              0         \n",
      "_________________________________________________________________\n",
      "dense (Dense)                (None, 32)                51232     \n",
      "_________________________________________________________________\n",
      "dense_1 (Dense)              (None, 1)                 33        \n",
      "=================================================================\n",
      "Total params: 103,425\n",
      "Trainable params: 103,425\n",
      "Non-trainable params: 0\n",
      "_________________________________________________________________\n"
     ]
    }
   ],
   "source": [
    "# 1 Dataset and dataloader\n",
    "train_path = \"../../data/cifar2/train/*/*.jpg\"\n",
    "test_path = \"../../data/cifar2/test/*/*.jpg\"\n",
    "ds_train, ds_test = get_dataset_from_list_files(train_path,test_path, BATCH_SIZE=100)\n",
    "# print(f\"x_train.shape = { x_train.shape} x_test.shape = {x_test.shape}\" )\n",
    "for x,y in ds_train.take(1): # ds_train = (x_train , y_train)\n",
    "    print(x.shape,y.shape)\n",
    "\n",
    "# 2 Model definition (Sequential, Model(Input,Output))\n",
    "tf.keras.backend.clear_session()\n",
    "inputs = layers.Input(shape=(32,32,3))\n",
    "x = layers.Conv2D(32,kernel_size=(3,3))(inputs)\n",
    "x = layers.MaxPool2D()(x)\n",
    "x = layers.Conv2D(64,kernel_size=(5,5))(x)\n",
    "x = layers.MaxPool2D()(x)\n",
    "x = layers.Dropout(rate=0.1)(x)\n",
    "x = layers.Flatten()(x)\n",
    "x = layers.Dense(32,activation='relu')(x)\n",
    "outputs = layers.Dense(1,activation = 'sigmoid')(x)\n",
    "\n",
    "model = models.Model(inputs = inputs,outputs = outputs)\n",
    "\n",
    "# 3 Set optimizer and training\n",
    "model.compile(optimizer=\"SGD\", loss='binary_crossentropy',\n",
    "            metrics=['accuracy'])\n",
    "\n",
    "stamp = datetime.datetime.now().strftime(\"%Y%m%d-%H%M%S\")\n",
    "logdir = os.path.join('../../data', 'autograph', stamp)\n",
    "tensorboard_callback = tf.keras.callbacks.TensorBoard(logdir, histogram_freq=1)\n",
    "history = model.fit(ds_train, epochs=10,\n",
    "                    validation_data=ds_test, # Could just use y_test instead of validation_split=0.2,\n",
    "                    callbacks = [tensorboard_callback],workers = 4)  \n",
    "model.summary()\n",
    "\n",
    "# 4 Model evaluation, application and saving"
   ]
  },
  {
   "cell_type": "code",
   "execution_count": 16,
   "metadata": {},
   "outputs": [
    {
     "name": "stdout",
     "output_type": "stream",
     "text": [
      "20/20 [==============================] - 0s 6ms/step - loss: 0.3517 - accuracy: 0.8520\n",
      "[[0.8667978 ]\n",
      " [0.90864885]\n",
      " [0.29142696]\n",
      " [0.0053263 ]\n",
      " [0.11569688]\n",
      " [0.0111368 ]\n",
      " [0.0021446 ]\n",
      " [0.9541129 ]\n",
      " [0.5680897 ]\n",
      " [0.07136855]\n",
      " [0.24556926]\n",
      " [0.8283427 ]\n",
      " [0.47568238]\n",
      " [0.00329617]\n",
      " [0.11916035]\n",
      " [0.6746347 ]\n",
      " [0.2022931 ]\n",
      " [0.5823696 ]\n",
      " [0.84328985]\n",
      " [0.90692556]]\n"
     ]
    }
   ],
   "source": [
    "## 4.1 Model evaluate \n",
    "model.evaluate(ds_test)  # Val_loss,val_accuracy， input ds_test instead of x = x_test,y = y_test\n",
    "\n",
    "## 4.2 Model application\n",
    "model.predict(ds_test)  # Predict the possiblities\n",
    "for x,y in ds_test.take(1):\n",
    "    print(model.predict_on_batch(x[0:20]))\n"
   ]
  },
  {
   "cell_type": "code",
   "execution_count": 17,
   "metadata": {},
   "outputs": [
    {
     "name": "stdout",
     "output_type": "stream",
     "text": [
      "WARNING:tensorflow:From /rds/user/hpczeji1/hpc-work/anaconda3/envs/py36/lib/python3.6/site-packages/tensorflow/python/training/tracking/tracking.py:111: Model.state_updates (from tensorflow.python.keras.engine.training) is deprecated and will be removed in a future version.\n",
      "Instructions for updating:\n",
      "This property should not be used in TensorFlow 2.0, as updates are applied automatically.\n",
      "WARNING:tensorflow:From /rds/user/hpczeji1/hpc-work/anaconda3/envs/py36/lib/python3.6/site-packages/tensorflow/python/training/tracking/tracking.py:111: Layer.updates (from tensorflow.python.keras.engine.base_layer) is deprecated and will be removed in a future version.\n",
      "Instructions for updating:\n",
      "This property should not be used in TensorFlow 2.0, as updates are applied automatically.\n",
      "INFO:tensorflow:Assets written to: ../../model_saved/image_data_keras_model.model/assets\n"
     ]
    }
   ],
   "source": [
    "## 4.3 Model saving\n",
    "model.save('../../model_saved/image_data_keras_model.model') \n",
    "del model  #Deleting current model\n",
    "model = models.load_model('../../model_saved/image_data_keras_model.model')\n",
    "\n",
    "# Could also model.to_json/models.model_from_json to save structure\n",
    "# Could also model.save_weights, and save ckpt in save_format = \"tf\""
   ]
  },
  {
   "cell_type": "code",
   "execution_count": 18,
   "metadata": {},
   "outputs": [
    {
     "data": {
      "image/png": "[encoded data removed]",
      "text/plain": [
       "<Figure size 432x288 with 1 Axes>"
      ]
     },
     "metadata": {
      "needs_background": "light"
     },
     "output_type": "display_data"
    }
   ],
   "source": [
    "# 4 Model evaluation, application and saving\n",
    "plot_metric(history,\"loss\")"
   ]
  },
  {
   "cell_type": "code",
   "execution_count": 20,
   "metadata": {},
   "outputs": [
    {
     "data": {
      "image/png": "[encoded data removed]",
      "text/plain": [
       "<Figure size 432x288 with 1 Axes>"
      ]
     },
     "metadata": {
      "needs_background": "light"
     },
     "output_type": "display_data"
    }
   ],
   "source": [
    "plot_metric(history,\"accuracy\")"
   ]
  },
  {
   "cell_type": "code",
   "execution_count": 21,
   "metadata": {},
   "outputs": [
    {
     "name": "stdout",
     "output_type": "stream",
     "text": [
      "Known TensorBoard instances:\n",
      "  - port 6006: logdir logs/ (started 18:29:25 ago; pid 14898)\n",
      "  - port 6006: logdir logs/ (started 1 day, 20:30:25 ago; pid 16979)\n"
     ]
    }
   ],
   "source": [
    "%load_ext tensorboard\n",
    "#%tensorboard --logdir ../data/keras_model\n",
    "from tensorboard import notebook\n",
    "notebook.list() "
   ]
  },
  {
   "cell_type": "code",
   "execution_count": 25,
   "metadata": {},
   "outputs": [
    {
     "data": {
      "text/html": [
       "\n",
       "      <iframe id=\"tensorboard-frame-cb1cd93331853fa5\" width=\"100%\" height=\"800\" frameborder=\"0\">\n",
       "      </iframe>\n",
       "      <script>\n",
       "        (function() {\n",
       "          const frame = document.getElementById(\"tensorboard-frame-cb1cd93331853fa5\");\n",
       "          const url = new URL(\"/\", window.location);\n",
       "          const port = 6007;\n",
       "          if (port) {\n",
       "            url.port = port;\n",
       "          }\n",
       "          frame.src = url;\n",
       "        })();\n",
       "      </script>\n",
       "    "
      ],
      "text/plain": [
       "<IPython.core.display.HTML object>"
      ]
     },
     "metadata": {},
     "output_type": "display_data"
    }
   ],
   "source": [
    "#Checking model in tensorboard\n",
    "notebook.start(\"--logdir ../../data/keras_model\")"
   ]
  },
  {
   "cell_type": "code",
   "execution_count": 24,
   "metadata": {},
   "outputs": [
    {
     "data": {
      "text/html": [
       "<div>\n",
       "<style scoped>\n",
       "    .dataframe tbody tr th:only-of-type {\n",
       "        vertical-align: middle;\n",
       "    }\n",
       "\n",
       "    .dataframe tbody tr th {\n",
       "        vertical-align: top;\n",
       "    }\n",
       "\n",
       "    .dataframe thead th {\n",
       "        text-align: right;\n",
       "    }\n",
       "</style>\n",
       "<table border=\"1\" class=\"dataframe\">\n",
       "  <thead>\n",
       "    <tr style=\"text-align: right;\">\n",
       "      <th></th>\n",
       "      <th>loss</th>\n",
       "      <th>accuracy</th>\n",
       "      <th>val_loss</th>\n",
       "      <th>val_accuracy</th>\n",
       "    </tr>\n",
       "    <tr>\n",
       "      <th>epoch</th>\n",
       "      <th></th>\n",
       "      <th></th>\n",
       "      <th></th>\n",
       "      <th></th>\n",
       "    </tr>\n",
       "  </thead>\n",
       "  <tbody>\n",
       "    <tr>\n",
       "      <th>1</th>\n",
       "      <td>0.639394</td>\n",
       "      <td>0.6435</td>\n",
       "      <td>0.573228</td>\n",
       "      <td>0.7270</td>\n",
       "    </tr>\n",
       "    <tr>\n",
       "      <th>2</th>\n",
       "      <td>0.538479</td>\n",
       "      <td>0.7540</td>\n",
       "      <td>0.473066</td>\n",
       "      <td>0.7950</td>\n",
       "    </tr>\n",
       "    <tr>\n",
       "      <th>3</th>\n",
       "      <td>0.486308</td>\n",
       "      <td>0.7775</td>\n",
       "      <td>0.433942</td>\n",
       "      <td>0.8115</td>\n",
       "    </tr>\n",
       "    <tr>\n",
       "      <th>4</th>\n",
       "      <td>0.472539</td>\n",
       "      <td>0.7839</td>\n",
       "      <td>0.416745</td>\n",
       "      <td>0.8225</td>\n",
       "    </tr>\n",
       "    <tr>\n",
       "      <th>5</th>\n",
       "      <td>0.454203</td>\n",
       "      <td>0.7931</td>\n",
       "      <td>0.404838</td>\n",
       "      <td>0.8290</td>\n",
       "    </tr>\n",
       "    <tr>\n",
       "      <th>6</th>\n",
       "      <td>0.445130</td>\n",
       "      <td>0.7988</td>\n",
       "      <td>0.398460</td>\n",
       "      <td>0.8280</td>\n",
       "    </tr>\n",
       "    <tr>\n",
       "      <th>7</th>\n",
       "      <td>0.427248</td>\n",
       "      <td>0.8091</td>\n",
       "      <td>0.393846</td>\n",
       "      <td>0.8295</td>\n",
       "    </tr>\n",
       "    <tr>\n",
       "      <th>8</th>\n",
       "      <td>0.422462</td>\n",
       "      <td>0.8091</td>\n",
       "      <td>0.374201</td>\n",
       "      <td>0.8385</td>\n",
       "    </tr>\n",
       "    <tr>\n",
       "      <th>9</th>\n",
       "      <td>0.403383</td>\n",
       "      <td>0.8238</td>\n",
       "      <td>0.412471</td>\n",
       "      <td>0.8105</td>\n",
       "    </tr>\n",
       "    <tr>\n",
       "      <th>10</th>\n",
       "      <td>0.397044</td>\n",
       "      <td>0.8253</td>\n",
       "      <td>0.351680</td>\n",
       "      <td>0.8520</td>\n",
       "    </tr>\n",
       "  </tbody>\n",
       "</table>\n",
       "</div>"
      ],
      "text/plain": [
       "           loss  accuracy  val_loss  val_accuracy\n",
       "epoch                                            \n",
       "1      0.639394    0.6435  0.573228        0.7270\n",
       "2      0.538479    0.7540  0.473066        0.7950\n",
       "3      0.486308    0.7775  0.433942        0.8115\n",
       "4      0.472539    0.7839  0.416745        0.8225\n",
       "5      0.454203    0.7931  0.404838        0.8290\n",
       "6      0.445130    0.7988  0.398460        0.8280\n",
       "7      0.427248    0.8091  0.393846        0.8295\n",
       "8      0.422462    0.8091  0.374201        0.8385\n",
       "9      0.403383    0.8238  0.412471        0.8105\n",
       "10     0.397044    0.8253  0.351680        0.8520"
      ]
     },
     "execution_count": 24,
     "metadata": {},
     "output_type": "execute_result"
    }
   ],
   "source": [
    "dfhistory = pd.DataFrame(history.history)\n",
    "dfhistory.index = range(1,len(dfhistory) + 1)\n",
    "dfhistory.index.name = 'epoch'\n",
    "\n",
    "dfhistory"
   ]
  },
  {
   "cell_type": "code",
   "execution_count": null,
   "metadata": {},
   "outputs": [],
   "source": []
  }
 ],
 "metadata": {
  "interpreter": {
   "hash": "16c11565bb4e67660010f3b8ac54bb06ff920d6e5d1ce8d761516dd991d6b185"
  },
  "kernelspec": {
   "display_name": "Python 3",
   "language": "python",
   "name": "python3"
  },
  "language_info": {
   "codemirror_mode": {
    "name": "ipython",
    "version": 3
   },
   "file_extension": ".py",
   "mimetype": "text/x-python",
   "name": "python",
   "nbconvert_exporter": "python",
   "pygments_lexer": "ipython3",
   "version": "3.6.13"
  }
 },
 "nbformat": 4,
 "nbformat_minor": 2
}
