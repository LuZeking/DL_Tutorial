{
 "cells": [
  {
   "cell_type": "markdown",
   "id": "f08d099a",
   "metadata": {},
   "source": [
    "# SVM\n",
    "- refer to https://www.tensorflow.org/api_docs/python/tf/keras/layers/experimental/RandomFourierFeatures\n",
    "- RandomFourierFeatures + hinge loss"
   ]
  },
  {
   "cell_type": "code",
   "execution_count": 5,
   "id": "2252302a",
   "metadata": {},
   "outputs": [],
   "source": [
    "import sys\n",
    "import os\n",
    "project_path = os.path.abspath(os.path.join(os.getcwd(), \"../..\"))\n",
    "sys.path.append(project_path)\n",
    "import numpy as np\n",
    "import pandas as pd\n",
    "\n",
    "import tensorflow as tf\n",
    "from tensorflow import keras\n",
    "from tensorflow.keras import models,layers\n",
    "from tensorflow.keras.layers.experimental import RandomFourierFeatures\n",
    "\n",
    "from utils.dataset_loader import load_cifar10,structured_data_preprocessing\n",
    "from utils.trainer import plot_metric\n",
    "from backbone.cnn import CNN_3L, Sequential_CNN_3L"
   ]
  },
  {
   "cell_type": "code",
   "execution_count": 8,
   "id": "54925117",
   "metadata": {},
   "outputs": [
    {
     "name": "stdout",
     "output_type": "stream",
     "text": [
      "x_train.shape = (712, 15) x_test.shape = (179, 15)\n",
      "Epoch 1/30\n",
      "18/18 [==============================] - 0s 16ms/step - loss: 1.0293 - categorical_accuracy: 1.0000 - val_loss: 1.0398 - val_categorical_accuracy: 1.0000\n",
      "Epoch 2/30\n",
      "18/18 [==============================] - 0s 3ms/step - loss: 0.6978 - categorical_accuracy: 1.0000 - val_loss: 0.7976 - val_categorical_accuracy: 1.0000\n",
      "Epoch 3/30\n",
      "18/18 [==============================] - 0s 3ms/step - loss: 0.6337 - categorical_accuracy: 1.0000 - val_loss: 0.7213 - val_categorical_accuracy: 1.0000\n",
      "Epoch 4/30\n",
      "18/18 [==============================] - 0s 3ms/step - loss: 0.5875 - categorical_accuracy: 1.0000 - val_loss: 0.6893 - val_categorical_accuracy: 1.0000\n",
      "Epoch 5/30\n",
      "18/18 [==============================] - 0s 3ms/step - loss: 0.5662 - categorical_accuracy: 1.0000 - val_loss: 0.7445 - val_categorical_accuracy: 1.0000\n",
      "Epoch 6/30\n",
      "18/18 [==============================] - 0s 3ms/step - loss: 0.5329 - categorical_accuracy: 1.0000 - val_loss: 0.6817 - val_categorical_accuracy: 1.0000\n",
      "Epoch 7/30\n",
      "18/18 [==============================] - 0s 3ms/step - loss: 0.4774 - categorical_accuracy: 1.0000 - val_loss: 0.6499 - val_categorical_accuracy: 1.0000\n",
      "Epoch 8/30\n",
      "18/18 [==============================] - 0s 3ms/step - loss: 0.4613 - categorical_accuracy: 1.0000 - val_loss: 0.7144 - val_categorical_accuracy: 1.0000\n",
      "Epoch 9/30\n",
      "18/18 [==============================] - 0s 3ms/step - loss: 0.4676 - categorical_accuracy: 1.0000 - val_loss: 0.6167 - val_categorical_accuracy: 1.0000\n",
      "Epoch 10/30\n",
      "18/18 [==============================] - 0s 3ms/step - loss: 0.4584 - categorical_accuracy: 1.0000 - val_loss: 0.6884 - val_categorical_accuracy: 1.0000\n",
      "Epoch 11/30\n",
      "18/18 [==============================] - 0s 3ms/step - loss: 0.4178 - categorical_accuracy: 1.0000 - val_loss: 0.6187 - val_categorical_accuracy: 1.0000\n",
      "Epoch 12/30\n",
      "18/18 [==============================] - 0s 3ms/step - loss: 0.4031 - categorical_accuracy: 1.0000 - val_loss: 0.7075 - val_categorical_accuracy: 1.0000\n",
      "Epoch 13/30\n",
      "18/18 [==============================] - 0s 3ms/step - loss: 0.4178 - categorical_accuracy: 1.0000 - val_loss: 0.6474 - val_categorical_accuracy: 1.0000\n",
      "Epoch 14/30\n",
      "18/18 [==============================] - 0s 3ms/step - loss: 0.4019 - categorical_accuracy: 1.0000 - val_loss: 0.6373 - val_categorical_accuracy: 1.0000\n",
      "Epoch 15/30\n",
      "18/18 [==============================] - 0s 3ms/step - loss: 0.3866 - categorical_accuracy: 1.0000 - val_loss: 0.6887 - val_categorical_accuracy: 1.0000\n",
      "Epoch 16/30\n",
      "18/18 [==============================] - 0s 3ms/step - loss: 0.3955 - categorical_accuracy: 1.0000 - val_loss: 0.6245 - val_categorical_accuracy: 1.0000\n",
      "Epoch 17/30\n",
      "18/18 [==============================] - 0s 3ms/step - loss: 0.3768 - categorical_accuracy: 1.0000 - val_loss: 0.7535 - val_categorical_accuracy: 1.0000\n",
      "Epoch 18/30\n",
      "18/18 [==============================] - 0s 3ms/step - loss: 0.4272 - categorical_accuracy: 1.0000 - val_loss: 0.6950 - val_categorical_accuracy: 1.0000\n",
      "Epoch 19/30\n",
      "18/18 [==============================] - 0s 3ms/step - loss: 0.3778 - categorical_accuracy: 1.0000 - val_loss: 0.6260 - val_categorical_accuracy: 1.0000\n",
      "Epoch 20/30\n",
      "18/18 [==============================] - 0s 3ms/step - loss: 0.3555 - categorical_accuracy: 1.0000 - val_loss: 0.6300 - val_categorical_accuracy: 1.0000\n",
      "Epoch 21/30\n",
      "18/18 [==============================] - 0s 3ms/step - loss: 0.3534 - categorical_accuracy: 1.0000 - val_loss: 0.6417 - val_categorical_accuracy: 1.0000\n",
      "Epoch 22/30\n",
      "18/18 [==============================] - 0s 3ms/step - loss: 0.3589 - categorical_accuracy: 1.0000 - val_loss: 0.6386 - val_categorical_accuracy: 1.0000\n",
      "Epoch 23/30\n",
      "18/18 [==============================] - 0s 4ms/step - loss: 0.3726 - categorical_accuracy: 1.0000 - val_loss: 0.6418 - val_categorical_accuracy: 1.0000\n",
      "Epoch 24/30\n",
      "18/18 [==============================] - 0s 4ms/step - loss: 0.3354 - categorical_accuracy: 1.0000 - val_loss: 0.6323 - val_categorical_accuracy: 1.0000\n",
      "Epoch 25/30\n",
      "18/18 [==============================] - 0s 3ms/step - loss: 0.3616 - categorical_accuracy: 1.0000 - val_loss: 0.6187 - val_categorical_accuracy: 1.0000\n",
      "Epoch 26/30\n",
      "18/18 [==============================] - 0s 3ms/step - loss: 0.3674 - categorical_accuracy: 1.0000 - val_loss: 0.6270 - val_categorical_accuracy: 1.0000\n",
      "Epoch 27/30\n",
      "18/18 [==============================] - 0s 3ms/step - loss: 0.3327 - categorical_accuracy: 1.0000 - val_loss: 0.7162 - val_categorical_accuracy: 1.0000\n",
      "Epoch 28/30\n",
      "18/18 [==============================] - 0s 3ms/step - loss: 0.3351 - categorical_accuracy: 1.0000 - val_loss: 0.6189 - val_categorical_accuracy: 1.0000\n",
      "Epoch 29/30\n",
      "18/18 [==============================] - 0s 3ms/step - loss: 0.3356 - categorical_accuracy: 1.0000 - val_loss: 0.6255 - val_categorical_accuracy: 1.0000\n",
      "Epoch 30/30\n",
      "18/18 [==============================] - 0s 4ms/step - loss: 0.3413 - categorical_accuracy: 1.0000 - val_loss: 0.6325 - val_categorical_accuracy: 1.0000\n",
      "Model: \"sequential\"\n",
      "_________________________________________________________________\n",
      "Layer (type)                 Output Shape              Param #   \n",
      "=================================================================\n",
      "random_fourier_features (Ran (None, 4096)              65537     \n",
      "_________________________________________________________________\n",
      "dense (Dense)                (None, 1)                 4097      \n",
      "=================================================================\n",
      "Total params: 69,634\n",
      "Trainable params: 4,097\n",
      "Non-trainable params: 65,537\n",
      "_________________________________________________________________\n"
     ]
    }
   ],
   "source": [
    "# 1 Dataset and dataloader\n",
    "dftrain_raw = pd.read_csv('../../data/titanic/train.csv')\n",
    "dftest_raw = pd.read_csv('../../data/titanic/test.csv')\n",
    "\n",
    "x_train = structured_data_preprocessing(dftrain_raw)\n",
    "y_train = dftrain_raw['Survived'].values\n",
    "x_test = structured_data_preprocessing(dftest_raw)\n",
    "y_test = dftest_raw['Survived'].values\n",
    "print(f\"x_train.shape = { x_train.shape} x_test.shape = {x_test.shape}\" )\n",
    "\n",
    "# 2 Model definition\n",
    "tf.keras.backend.clear_session()\n",
    "model = keras.Sequential([\n",
    "  keras.Input(shape=(15,)),\n",
    "  RandomFourierFeatures(\n",
    "      output_dim=4096,\n",
    "      scale=10.,\n",
    "      kernel_initializer='gaussian'),\n",
    "  layers.Dense(units=1),\n",
    "])\n",
    "\n",
    "# 3 Set optimizer and training\n",
    "model.compile(\n",
    "    optimizer='adam',\n",
    "    loss='hinge',\n",
    "    metrics=['categorical_accuracy']\n",
    ")\n",
    "\n",
    "history = model.fit(x_train , y_train, epochs=30,\n",
    "                    validation_split=0.2 )  # Split part of the training data for validation\n",
    "model.summary()\n",
    "\n",
    "# 4 Model evaluation, application and saving"
   ]
  },
  {
   "cell_type": "code",
   "execution_count": 9,
   "id": "b132e001",
   "metadata": {},
   "outputs": [
    {
     "name": "stdout",
     "output_type": "stream",
     "text": [
      "6/6 [==============================] - 0s 2ms/step - loss: 0.5292 - categorical_accuracy: 1.0000\n",
      "WARNING:tensorflow:From <ipython-input-9-6186b878604f>:6: Sequential.predict_classes (from tensorflow.python.keras.engine.sequential) is deprecated and will be removed after 2021-01-01.\n",
      "Instructions for updating:\n",
      "Please use instead:* `np.argmax(model.predict(x), axis=-1)`,   if your model does multi-class classification   (e.g. if it uses a `softmax` last-layer activation).* `(model.predict(x) > 0.5).astype(\"int32\")`,   if your model does binary classification   (e.g. if it uses a `sigmoid` last-layer activation).\n"
     ]
    },
    {
     "data": {
      "text/plain": [
       "array([[0],\n",
       "       [0],\n",
       "       [0],\n",
       "       [1],\n",
       "       [1],\n",
       "       [1],\n",
       "       [0],\n",
       "       [0],\n",
       "       [1],\n",
       "       [0]], dtype=int32)"
      ]
     },
     "execution_count": 9,
     "metadata": {},
     "output_type": "execute_result"
    }
   ],
   "source": [
    "## 4.1 Model evaluate \n",
    "model.evaluate(x = x_test,y = y_test)  # Val_loss,val_accuracy\n",
    "\n",
    "## 4.2 Model application\n",
    "model.predict(x_test[0:10])  # Predict the possiblities\n",
    "model.predict_classes(x_test[0:10])  #Predict the classes\n"
   ]
  },
  {
   "cell_type": "code",
   "execution_count": 10,
   "id": "ca0d9e15",
   "metadata": {},
   "outputs": [
    {
     "name": "stdout",
     "output_type": "stream",
     "text": [
      "WARNING:tensorflow:From /rds/user/hpczeji1/hpc-work/anaconda3/envs/py36/lib/python3.6/site-packages/tensorflow/python/training/tracking/tracking.py:111: Model.state_updates (from tensorflow.python.keras.engine.training) is deprecated and will be removed in a future version.\n",
      "Instructions for updating:\n",
      "This property should not be used in TensorFlow 2.0, as updates are applied automatically.\n",
      "WARNING:tensorflow:From /rds/user/hpczeji1/hpc-work/anaconda3/envs/py36/lib/python3.6/site-packages/tensorflow/python/training/tracking/tracking.py:111: Layer.updates (from tensorflow.python.keras.engine.base_layer) is deprecated and will be removed in a future version.\n",
      "Instructions for updating:\n",
      "This property should not be used in TensorFlow 2.0, as updates are applied automatically.\n",
      "INFO:tensorflow:Assets written to: ../../model_saved/structured_data_keras_model.model/assets\n"
     ]
    }
   ],
   "source": [
    "## 4.3 Model saving\n",
    "model.save('../../model_saved/structured_data_keras_model.model') \n",
    "del model  #Deleting current model\n",
    "model = models.load_model('../../model_saved/structured_data_keras_model.model')\n",
    "\n",
    "# Could also model.to_json/models.model_from_json to save structure\n",
    "# Could also model.save_weights, and save ckpt in save_format = \"tf\""
   ]
  },
  {
   "cell_type": "code",
   "execution_count": 11,
   "id": "d996d40e",
   "metadata": {},
   "outputs": [
    {
     "data": {
      "image/png": "[encoded data removed]",
      "text/plain": [
       "<Figure size 432x288 with 1 Axes>"
      ]
     },
     "metadata": {
      "needs_background": "light"
     },
     "output_type": "display_data"
    }
   ],
   "source": [
    "# 4 Model evaluation, application and saving\n",
    "plot_metric(history,\"loss\")"
   ]
  },
  {
   "cell_type": "code",
   "execution_count": 13,
   "id": "b56ae64a",
   "metadata": {},
   "outputs": [
    {
     "data": {
      "image/png": "[encoded data removed]",
      "text/plain": [
       "<Figure size 432x288 with 1 Axes>"
      ]
     },
     "metadata": {
      "needs_background": "light"
     },
     "output_type": "display_data"
    }
   ],
   "source": [
    "plot_metric(history,\"categorical_accuracy\")"
   ]
  },
  {
   "cell_type": "code",
   "execution_count": null,
   "id": "0e62d3b5",
   "metadata": {},
   "outputs": [],
   "source": []
  }
 ],
 "metadata": {
  "kernelspec": {
   "display_name": "Python 3.6.13 64-bit ('py36': conda)",
   "language": "python",
   "name": "python3613jvsc74a57bd016c11565bb4e67660010f3b8ac54bb06ff920d6e5d1ce8d761516dd991d6b185"
  },
  "language_info": {
   "codemirror_mode": {
    "name": "ipython",
    "version": 3
   },
   "file_extension": ".py",
   "mimetype": "text/x-python",
   "name": "python",
   "nbconvert_exporter": "python",
   "pygments_lexer": "ipython3",
   "version": "3.6.13"
  }
 },
 "nbformat": 4,
 "nbformat_minor": 5
}
